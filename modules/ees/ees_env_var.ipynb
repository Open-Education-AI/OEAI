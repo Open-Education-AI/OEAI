{
 "cells": [
  {
   "cell_type": "markdown",
   "id": "f26ca5d1-a6bd-4d98-be5e-162ce6b48069",
   "metadata": {
    "microsoft": {
     "language": "python",
     "language_group": "synapse_pyspark"
    },
    "nteract": {
     "transient": {
      "deleting": false
     }
    }
   },
   "source": [
    "# Set Environmental Variables"
   ]
  },
  {
   "cell_type": "code",
   "execution_count": null,
   "id": "9133e3ba-d3cb-458b-9b45-038e53a493b1",
   "metadata": {
    "jupyter": {
     "outputs_hidden": false,
     "source_hidden": false
    },
    "microsoft": {
     "language": "python",
     "language_group": "synapse_pyspark"
    },
    "nteract": {
     "transient": {
      "deleting": false
     }
    }
   },
   "outputs": [],
   "source": [
    "%run oeai_py"
   ]
  },
  {
   "cell_type": "code",
   "execution_count": null,
   "id": "814f13b1-4ca9-422e-9b99-f96c33e3c88c",
   "metadata": {
    "jupyter": {
     "outputs_hidden": false,
     "source_hidden": false
    },
    "microsoft": {
     "language": "python",
     "language_group": "synapse_pyspark"
    },
    "nteract": {
     "transient": {
      "deleting": false
     }
    }
   },
   "outputs": [],
   "source": [
    "# Create an instance of OEAI class and set the plaform (\"Azure\", \"Fabric\"...)\n",
    "oeai = OEAI(platform=\"\")"
   ]
  },
  {
   "cell_type": "code",
   "execution_count": null,
   "id": "ad3cffe0-1332-4db9-9320-deb77fcceaec",
   "metadata": {
    "jupyter": {
     "outputs_hidden": false,
     "source_hidden": false
    },
    "microsoft": {
     "language": "python",
     "language_group": "synapse_pyspark"
    },
    "nteract": {
     "transient": {
      "deleting": false
     }
    },
    "tags": [
     "parameters"
    ]
   },
   "outputs": [],
   "source": [
    "env_debug = True\n",
    "\n",
    "# Create an instance of OEAI class and set the plaform (\"Azure\", \"Fabric\"...)\n",
    "oeai = OEAI(platform=\"Fabric\")\n",
    "\n",
    "# CHANGE VALUES FOR YOUR KEY VAULT\n",
    "keyvault = \"\"  # Fabric requires full URL eg \"https://key_vault_name.vault.azure.net/\"\n",
    "keyvault_linked_service = \"\"  # Not required for Fabric.\n",
    "\n",
    "env_paths = {\n",
    "    \"reference\" : oeai.get_secret(spark, \"reference\", keyvault_linked_service, keyvault),\n",
    "    \"bronze\"    : oeai.get_secret(spark, \"ees-bronze\", keyvault_linked_service, keyvault),\n",
    "    \"silver\"    : oeai.get_secret(spark, \"ees-silver\", keyvault_linked_service, keyvault),\n",
    "    \"gold\"      : oeai.get_secret(spark, \"ees-gold\", keyvault_linked_service, keyvault),\n",
    "}"
   ]
  },
  {
   "cell_type": "markdown",
   "id": "4249da4c-c232-4eb5-bcaf-cca8377c8462",
   "metadata": {
    "microsoft": {
     "language": "python",
     "language_group": "synapse_pyspark"
    },
    "nteract": {
     "transient": {
      "deleting": false
     }
    }
   },
   "source": [
    "# Functions"
   ]
  },
  {
   "cell_type": "code",
   "execution_count": null,
   "id": "976e30ff-9ce9-4e21-92e6-2e07a4effe80",
   "metadata": {
    "microsoft": {
     "language": "python",
     "language_group": "synapse_pyspark"
    }
   },
   "outputs": [],
   "source": [
    "def ensure_trailing_slash(path):\n",
    "    if not path.endswith(\"/\"):\n",
    "        return path + \"/\"\n",
    "    return path"
   ]
  },
  {
   "cell_type": "markdown",
   "id": "1b2f5a6e-3b13-4446-a300-c11ed73169dc",
   "metadata": {
    "microsoft": {
     "language": "python",
     "language_group": "synapse_pyspark"
    },
    "nteract": {
     "transient": {
      "deleting": false
     }
    }
   },
   "source": [
    "# Transformations"
   ]
  },
  {
   "cell_type": "code",
   "execution_count": null,
   "id": "d6969d77-0a43-4174-9409-756e8260ce1f",
   "metadata": {
    "jupyter": {
     "outputs_hidden": false,
     "source_hidden": false
    },
    "microsoft": {
     "language": "python",
     "language_group": "synapse_pyspark"
    },
    "nteract": {
     "transient": {
      "deleting": false
     }
    }
   },
   "outputs": [],
   "source": [
    "env_paths = {key: ensure_trailing_slash(path) for key, path in env_paths.items()}"
   ]
  },
  {
   "cell_type": "markdown",
   "id": "17d93343-77e5-493f-9e3a-64ac690b359a",
   "metadata": {
    "microsoft": {
     "language": "python",
     "language_group": "synapse_pyspark"
    },
    "nteract": {
     "transient": {
      "deleting": false
     }
    }
   },
   "source": [
    "# Debugging"
   ]
  },
  {
   "cell_type": "code",
   "execution_count": null,
   "id": "9aa00bb7-0064-4d71-9a5c-24e0f36a5c07",
   "metadata": {
    "jupyter": {
     "outputs_hidden": false,
     "source_hidden": false
    },
    "microsoft": {
     "language": "python",
     "language_group": "synapse_pyspark"
    },
    "nteract": {
     "transient": {
      "deleting": false
     }
    }
   },
   "outputs": [],
   "source": [
    "if env_debug:\n",
    "    print(\"### DEBUG MODE ###\\n\")\n",
    "    \n",
    "    print(\"[env_paths]\")\n",
    "    for key, value in env_paths.items(): print(f\"{key} = {value[:5]} :// {value[8:]}\")"
   ]
  }
 ],
 "metadata": {
  "dependencies": {},
  "kernel_info": {
   "name": "synapse_pyspark"
  },
  "kernelspec": {
   "display_name": "Synapse PySpark",
   "language": "Python",
   "name": "synapse_pyspark"
  },
  "language_info": {
   "name": "python"
  },
  "microsoft": {
   "language": "python",
   "language_group": "synapse_pyspark",
   "ms_spell_check": {
    "ms_spell_check_language": "en"
   }
  },
  "nteract": {
   "version": "nteract-front-end@1.0.0"
  },
  "spark_compute": {
   "compute_id": "/trident/default",
   "session_options": {
    "conf": {
     "spark.synapse.nbs.session.timeout": "1200000"
    }
   }
  },
  "widgets": {}
 },
 "nbformat": 4,
 "nbformat_minor": 5
}

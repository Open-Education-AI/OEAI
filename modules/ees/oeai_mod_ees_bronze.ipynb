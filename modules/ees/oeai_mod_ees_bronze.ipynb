{
 "cells": [
  {
   "cell_type": "code",
   "execution_count": null,
   "id": "96379ed2-bb0a-4d46-b55d-38b1a1f91676",
   "metadata": {
    "jupyter": {
     "outputs_hidden": false,
     "source_hidden": false
    },
    "microsoft": {
     "language": "python",
     "language_group": "synapse_pyspark"
    },
    "nteract": {
     "transient": {
      "deleting": false
     }
    }
   },
   "outputs": [],
   "source": [
    "import os\n",
    "import requests"
   ]
  },
  {
   "cell_type": "code",
   "execution_count": null,
   "id": "699fa58b-18ca-43f1-b935-147389c653bf",
   "metadata": {
    "jupyter": {
     "outputs_hidden": false,
     "source_hidden": false
    },
    "microsoft": {
     "language": "python",
     "language_group": "synapse_pyspark"
    },
    "nteract": {
     "transient": {
      "deleting": false
     }
    }
   },
   "outputs": [],
   "source": [
    "%run ees_env_var"
   ]
  },
  {
   "cell_type": "code",
   "execution_count": null,
   "id": "50dae86b-88ba-4f9c-bd61-a4898b33a736",
   "metadata": {
    "jupyter": {
     "outputs_hidden": false,
     "source_hidden": false
    },
    "microsoft": {
     "language": "python",
     "language_group": "synapse_pyspark"
    },
    "nteract": {
     "transient": {
      "deleting": false
     }
    },
    "tags": [
     "parameters"
    ]
   },
   "outputs": [],
   "source": [
    "# Bronze parameters\n",
    "urls = {\n",
    "    'ees_daily_23_24'   : os.path.join(env_paths['reference'], \"ees_daily_data_2324.csv\"),\n",
    "    'ees_daily_22_23'   : os.path.join(env_paths['reference'], \"ees_daily_data_2223.csv\"),\n",
    "    'ees_daily'         : \"https://github.com/dfe-analytical-services/attendance-data-dashboard/raw/main/data/EES_daily_data.csv\",\n",
    "    \"ees_weekly\"        : \"https://github.com/dfe-analytical-services/attendance-data-dashboard/raw/main/data/EES_weekly_data.csv\",\n",
    "    \"ees_ytd\"           : \"https://github.com/dfe-analytical-services/attendance-data-dashboard/raw/main/data/EES_ytd_data.csv\",\n",
    "}"
   ]
  },
  {
   "cell_type": "code",
   "execution_count": null,
   "id": "c3839f5c-b025-4cdd-a1ee-2053de5df15d",
   "metadata": {
    "jupyter": {
     "outputs_hidden": false,
     "source_hidden": false
    },
    "microsoft": {
     "language": "python",
     "language_group": "synapse_pyspark"
    },
    "nteract": {
     "transient": {
      "deleting": false
     }
    }
   },
   "outputs": [],
   "source": [
    "for key, url in urls.items():\n",
    "    print(key)\n",
    "\n",
    "    if url.startswith(\"https://github.com/dfe-analytical-services/attendance-data-dashboard/raw/main/\"):\n",
    "        # print(\"\\tGithub\")\n",
    "        # Download the CSV file using requests\n",
    "        response = requests.get(url)\n",
    "        # Convert response content to a list of lines\n",
    "        lines = response.text.splitlines()\n",
    "        # Create an RDD from the list of lines\n",
    "        rdd = spark.sparkContext.parallelize(lines)\n",
    "    else:\n",
    "        # print(\"\\tReference\")\n",
    "        rdd = url\n",
    "    \n",
    "    df = spark.read.csv(rdd, header=True, inferSchema=True)\n",
    "    df.write.csv(os.path.join(env_paths['bronze'], key), header=True, mode='overwrite')\n",
    "    print(f\"\\trow count: {df.count()}\")\n",
    "    # df.printSchema()"
   ]
  }
 ],
 "metadata": {
  "dependencies": {},
  "kernel_info": {
   "name": "synapse_pyspark"
  },
  "kernelspec": {
   "display_name": "Synapse PySpark",
   "language": "Python",
   "name": "synapse_pyspark"
  },
  "language_info": {
   "name": "python"
  },
  "microsoft": {
   "language": "python",
   "language_group": "synapse_pyspark",
   "ms_spell_check": {
    "ms_spell_check_language": "en"
   }
  },
  "nteract": {
   "version": "nteract-front-end@1.0.0"
  },
  "spark_compute": {
   "compute_id": "/trident/default",
   "session_options": {
    "conf": {
     "spark.synapse.nbs.session.timeout": "1200000"
    }
   }
  },
  "widgets": {}
 },
 "nbformat": 4,
 "nbformat_minor": 5
}

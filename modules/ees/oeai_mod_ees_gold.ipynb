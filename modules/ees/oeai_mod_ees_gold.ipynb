{
 "cells": [
  {
   "cell_type": "code",
   "execution_count": null,
   "id": "704ccc98-49a7-4858-b0d6-238a32ab987d",
   "metadata": {
    "microsoft": {
     "language": "python",
     "language_group": "synapse_pyspark"
    }
   },
   "outputs": [],
   "source": [
    "%run ees_env_var"
   ]
  },
  {
   "cell_type": "code",
   "execution_count": null,
   "id": "e394f249-1cbf-4d59-be3f-4bf6c2a838f6",
   "metadata": {
    "jupyter": {
     "outputs_hidden": false,
     "source_hidden": false
    },
    "microsoft": {
     "language": "python",
     "language_group": "synapse_pyspark"
    },
    "nteract": {
     "transient": {
      "deleting": false
     }
    },
    "tags": [
     "parameters"
    ]
   },
   "outputs": [],
   "source": [
    "# List of Delta table names to process\n",
    "delta_tables = [\n",
    "    \"fact_ees_daily\",\n",
    "    \"fact_ees_weekly\",\n",
    "    \"fact_ees_ytd\",\n",
    "]"
   ]
  },
  {
   "cell_type": "code",
   "execution_count": null,
   "id": "53628473-9818-40e5-8688-5a35779f3bab",
   "metadata": {
    "jupyter": {
     "outputs_hidden": false,
     "source_hidden": false
    },
    "microsoft": {
     "language": "python",
     "language_group": "synapse_pyspark"
    },
    "nteract": {
     "transient": {
      "deleting": false
     }
    }
   },
   "outputs": [],
   "source": [
    "# Iterate through each Delta table\n",
    "for table_name in delta_tables:\n",
    "    print(table_name)\n",
    "    \n",
    "    try:\n",
    "        # Load the Delta table\n",
    "        # Convert the Delta table to a DataFrame\n",
    "        # Write the DataFrame to Parquet\n",
    "        DeltaTable \\\n",
    "            .forPath(spark, os.path.join(env_paths['silver'], table_name)) \\\n",
    "            .toDF() \\\n",
    "            .write \\\n",
    "            .format(\"parquet\") \\\n",
    "            .mode(\"overwrite\") \\\n",
    "            .save(os.path.join(env_paths['gold'], table_name)) \\\n",
    "        \n",
    "        print(f\"[{datetime.now()}]\\tDelta table from Silver has been saved to Parquet in Gold\")\n",
    "\n",
    "    except Exception as e:\n",
    "        print(f\"\\tError processing table {table_name}: {e}\")"
   ]
  }
 ],
 "metadata": {
  "dependencies": {},
  "kernel_info": {
   "name": "synapse_pyspark"
  },
  "kernelspec": {
   "display_name": "Synapse PySpark",
   "language": "Python",
   "name": "synapse_pyspark"
  },
  "language_info": {
   "name": "python"
  },
  "microsoft": {
   "language": "python",
   "language_group": "synapse_pyspark",
   "ms_spell_check": {
    "ms_spell_check_language": "en"
   }
  },
  "nteract": {
   "version": "nteract-front-end@1.0.0"
  },
  "spark_compute": {
   "compute_id": "/trident/default",
   "session_options": {
    "conf": {
     "spark.synapse.nbs.session.timeout": "1200000"
    }
   }
  },
  "widgets": {}
 },
 "nbformat": 4,
 "nbformat_minor": 5
}
